{
 "cells": [
  {
   "cell_type": "markdown",
   "metadata": {},
   "source": [
    "# Analyzing Ford GoBike Data\n",
    "Dec-2019\n",
    "\n",
    "by Fernando de Moraes Gabriel\n",
    "\n",
    "## Introduction\n",
    "In this project, the Ford GoBike System Dateset that contains trip data from lyft's bike service for public use was analyzed.\n",
    "\n",
    "> Ford GoBike, like other bike share systems, consists of a fleet of specially designed, sturdy and durable bikes that are locked into a network of docking stations throughout the city. The bikes can be unlocked from one station and returned to any other station in the system, making them ideal for one-way trips. People use bike share to commute to work or school, run errands, get to appointments or social engagements and more. It's a fun, convenient and affordable way to get around.\n",
    "> More about the data [here](https://www.fordgobike.com/system-data)\n",
    "\n",
    "## Preliminary Wrangling"
   ]
  },
  {
   "cell_type": "code",
   "execution_count": 1,
   "metadata": {},
   "outputs": [],
   "source": [
    "# import packages\n",
    "import numpy as np\n",
    "import pandas as pd\n",
    "import matplotlib.pyplot as plt\n",
    "%matplotlib inline\n",
    "import seaborn as sb\n",
    "import glob\n",
    "import os\n",
    "import datetime"
   ]
  },
  {
   "cell_type": "markdown",
   "metadata": {},
   "source": [
    "> The csv files for the period January-June 2019 was downloaded to the author's computer and combined into the fordgobike_master.csv, using the glob and the Dataset functions:\n",
    ">\n",
    ">path = '../data/'\n",
    ">\n",
    ">files = glob.glob(os.path.join(path, \"*.csv\"))\n",
    ">\n",
    ">df = pd.concat((pd.read_csv(f) for f in files), ignore_index = True)\n",
    ">\n",
    ">df.to_csv('fordgobike_master.csv', index = False)\n"
   ]
  },
  {
   "cell_type": "code",
   "execution_count": 2,
   "metadata": {},
   "outputs": [
    {
     "name": "stderr",
     "output_type": "stream",
     "text": [
      "/home/fernando/anaconda3/envs/Udacity/lib/python3.7/site-packages/IPython/core/interactiveshell.py:3058: DtypeWarning: Columns (10) have mixed types. Specify dtype option on import or set low_memory=False.\n",
      "  interactivity=interactivity, compiler=compiler, result=result)\n"
     ]
    },
    {
     "data": {
      "text/html": [
       "<div>\n",
       "<style scoped>\n",
       "    .dataframe tbody tr th:only-of-type {\n",
       "        vertical-align: middle;\n",
       "    }\n",
       "\n",
       "    .dataframe tbody tr th {\n",
       "        vertical-align: top;\n",
       "    }\n",
       "\n",
       "    .dataframe thead th {\n",
       "        text-align: right;\n",
       "    }\n",
       "</style>\n",
       "<table border=\"1\" class=\"dataframe\">\n",
       "  <thead>\n",
       "    <tr style=\"text-align: right;\">\n",
       "      <th></th>\n",
       "      <th>bike_id</th>\n",
       "      <th>bike_share_for_all_trip</th>\n",
       "      <th>duration_sec</th>\n",
       "      <th>end_station_id</th>\n",
       "      <th>end_station_latitude</th>\n",
       "      <th>end_station_longitude</th>\n",
       "      <th>end_station_name</th>\n",
       "      <th>end_time</th>\n",
       "      <th>member_birth_year</th>\n",
       "      <th>member_gender</th>\n",
       "      <th>rental_access_method</th>\n",
       "      <th>start_station_id</th>\n",
       "      <th>start_station_latitude</th>\n",
       "      <th>start_station_longitude</th>\n",
       "      <th>start_station_name</th>\n",
       "      <th>start_time</th>\n",
       "      <th>user_type</th>\n",
       "    </tr>\n",
       "  </thead>\n",
       "  <tbody>\n",
       "    <tr>\n",
       "      <td>0</td>\n",
       "      <td>4861</td>\n",
       "      <td>No</td>\n",
       "      <td>80825</td>\n",
       "      <td>196.0</td>\n",
       "      <td>37.808894</td>\n",
       "      <td>-122.256460</td>\n",
       "      <td>Grand Ave at Perkins St</td>\n",
       "      <td>2019-02-01 16:24:49.8640</td>\n",
       "      <td>1989.0</td>\n",
       "      <td>Male</td>\n",
       "      <td>NaN</td>\n",
       "      <td>229.0</td>\n",
       "      <td>37.775745</td>\n",
       "      <td>-122.213037</td>\n",
       "      <td>Foothill Blvd at 42nd Ave</td>\n",
       "      <td>2019-01-31 17:57:44.6130</td>\n",
       "      <td>Subscriber</td>\n",
       "    </tr>\n",
       "    <tr>\n",
       "      <td>1</td>\n",
       "      <td>5506</td>\n",
       "      <td>No</td>\n",
       "      <td>65900</td>\n",
       "      <td>134.0</td>\n",
       "      <td>37.752428</td>\n",
       "      <td>-122.420628</td>\n",
       "      <td>Valencia St at 24th St</td>\n",
       "      <td>2019-02-01 15:16:54.1730</td>\n",
       "      <td>1989.0</td>\n",
       "      <td>Male</td>\n",
       "      <td>NaN</td>\n",
       "      <td>4.0</td>\n",
       "      <td>37.785881</td>\n",
       "      <td>-122.408915</td>\n",
       "      <td>Cyril Magnin St at Ellis St</td>\n",
       "      <td>2019-01-31 20:58:33.8860</td>\n",
       "      <td>Subscriber</td>\n",
       "    </tr>\n",
       "    <tr>\n",
       "      <td>2</td>\n",
       "      <td>2717</td>\n",
       "      <td>No</td>\n",
       "      <td>62633</td>\n",
       "      <td>157.0</td>\n",
       "      <td>37.846784</td>\n",
       "      <td>-122.291376</td>\n",
       "      <td>65th St at Hollis St</td>\n",
       "      <td>2019-02-01 11:30:46.5300</td>\n",
       "      <td>1965.0</td>\n",
       "      <td>Female</td>\n",
       "      <td>NaN</td>\n",
       "      <td>245.0</td>\n",
       "      <td>37.870139</td>\n",
       "      <td>-122.268422</td>\n",
       "      <td>Downtown Berkeley BART</td>\n",
       "      <td>2019-01-31 18:06:52.9240</td>\n",
       "      <td>Customer</td>\n",
       "    </tr>\n",
       "    <tr>\n",
       "      <td>3</td>\n",
       "      <td>4557</td>\n",
       "      <td>No</td>\n",
       "      <td>44680</td>\n",
       "      <td>53.0</td>\n",
       "      <td>37.775946</td>\n",
       "      <td>-122.437777</td>\n",
       "      <td>Grove St at Divisadero</td>\n",
       "      <td>2019-02-01 08:10:50.3180</td>\n",
       "      <td>1974.0</td>\n",
       "      <td>Male</td>\n",
       "      <td>NaN</td>\n",
       "      <td>85.0</td>\n",
       "      <td>37.770083</td>\n",
       "      <td>-122.429156</td>\n",
       "      <td>Church St at Duboce Ave</td>\n",
       "      <td>2019-01-31 19:46:09.7190</td>\n",
       "      <td>Customer</td>\n",
       "    </tr>\n",
       "    <tr>\n",
       "      <td>4</td>\n",
       "      <td>2100</td>\n",
       "      <td>No</td>\n",
       "      <td>60709</td>\n",
       "      <td>28.0</td>\n",
       "      <td>37.787168</td>\n",
       "      <td>-122.388098</td>\n",
       "      <td>The Embarcadero at Bryant St</td>\n",
       "      <td>2019-02-01 07:10:51.0650</td>\n",
       "      <td>NaN</td>\n",
       "      <td>NaN</td>\n",
       "      <td>NaN</td>\n",
       "      <td>16.0</td>\n",
       "      <td>37.794130</td>\n",
       "      <td>-122.394430</td>\n",
       "      <td>Steuart St at Market St</td>\n",
       "      <td>2019-01-31 14:19:01.5410</td>\n",
       "      <td>Customer</td>\n",
       "    </tr>\n",
       "  </tbody>\n",
       "</table>\n",
       "</div>"
      ],
      "text/plain": [
       "   bike_id bike_share_for_all_trip  duration_sec  end_station_id  \\\n",
       "0     4861                      No         80825           196.0   \n",
       "1     5506                      No         65900           134.0   \n",
       "2     2717                      No         62633           157.0   \n",
       "3     4557                      No         44680            53.0   \n",
       "4     2100                      No         60709            28.0   \n",
       "\n",
       "   end_station_latitude  end_station_longitude              end_station_name  \\\n",
       "0             37.808894            -122.256460       Grand Ave at Perkins St   \n",
       "1             37.752428            -122.420628        Valencia St at 24th St   \n",
       "2             37.846784            -122.291376          65th St at Hollis St   \n",
       "3             37.775946            -122.437777        Grove St at Divisadero   \n",
       "4             37.787168            -122.388098  The Embarcadero at Bryant St   \n",
       "\n",
       "                   end_time  member_birth_year member_gender  \\\n",
       "0  2019-02-01 16:24:49.8640             1989.0          Male   \n",
       "1  2019-02-01 15:16:54.1730             1989.0          Male   \n",
       "2  2019-02-01 11:30:46.5300             1965.0        Female   \n",
       "3  2019-02-01 08:10:50.3180             1974.0          Male   \n",
       "4  2019-02-01 07:10:51.0650                NaN           NaN   \n",
       "\n",
       "  rental_access_method  start_station_id  start_station_latitude  \\\n",
       "0                  NaN             229.0               37.775745   \n",
       "1                  NaN               4.0               37.785881   \n",
       "2                  NaN             245.0               37.870139   \n",
       "3                  NaN              85.0               37.770083   \n",
       "4                  NaN              16.0               37.794130   \n",
       "\n",
       "   start_station_longitude           start_station_name  \\\n",
       "0              -122.213037    Foothill Blvd at 42nd Ave   \n",
       "1              -122.408915  Cyril Magnin St at Ellis St   \n",
       "2              -122.268422       Downtown Berkeley BART   \n",
       "3              -122.429156      Church St at Duboce Ave   \n",
       "4              -122.394430      Steuart St at Market St   \n",
       "\n",
       "                 start_time   user_type  \n",
       "0  2019-01-31 17:57:44.6130  Subscriber  \n",
       "1  2019-01-31 20:58:33.8860  Subscriber  \n",
       "2  2019-01-31 18:06:52.9240    Customer  \n",
       "3  2019-01-31 19:46:09.7190    Customer  \n",
       "4  2019-01-31 14:19:01.5410    Customer  "
      ]
     },
     "execution_count": 2,
     "metadata": {},
     "output_type": "execute_result"
    }
   ],
   "source": [
    "df = pd.read_csv('fordgobike_master.csv', sep=',')\n",
    "df.head()"
   ]
  },
  {
   "cell_type": "code",
   "execution_count": 3,
   "metadata": {},
   "outputs": [
    {
     "data": {
      "text/html": [
       "<div>\n",
       "<style scoped>\n",
       "    .dataframe tbody tr th:only-of-type {\n",
       "        vertical-align: middle;\n",
       "    }\n",
       "\n",
       "    .dataframe tbody tr th {\n",
       "        vertical-align: top;\n",
       "    }\n",
       "\n",
       "    .dataframe thead th {\n",
       "        text-align: right;\n",
       "    }\n",
       "</style>\n",
       "<table border=\"1\" class=\"dataframe\">\n",
       "  <thead>\n",
       "    <tr style=\"text-align: right;\">\n",
       "      <th></th>\n",
       "      <th>bike_id</th>\n",
       "      <th>bike_share_for_all_trip</th>\n",
       "      <th>duration_sec</th>\n",
       "      <th>end_station_id</th>\n",
       "      <th>end_station_latitude</th>\n",
       "      <th>end_station_longitude</th>\n",
       "      <th>end_station_name</th>\n",
       "      <th>end_time</th>\n",
       "      <th>member_birth_year</th>\n",
       "      <th>member_gender</th>\n",
       "      <th>rental_access_method</th>\n",
       "      <th>start_station_id</th>\n",
       "      <th>start_station_latitude</th>\n",
       "      <th>start_station_longitude</th>\n",
       "      <th>start_station_name</th>\n",
       "      <th>start_time</th>\n",
       "      <th>user_type</th>\n",
       "    </tr>\n",
       "  </thead>\n",
       "  <tbody>\n",
       "    <tr>\n",
       "      <td>74117</td>\n",
       "      <td>2030</td>\n",
       "      <td>No</td>\n",
       "      <td>571</td>\n",
       "      <td>25.0</td>\n",
       "      <td>37.787522</td>\n",
       "      <td>-122.397405</td>\n",
       "      <td>Howard St at 2nd St</td>\n",
       "      <td>2019-01-23 08:27:39.1500</td>\n",
       "      <td>1986.0</td>\n",
       "      <td>Male</td>\n",
       "      <td>NaN</td>\n",
       "      <td>78.0</td>\n",
       "      <td>37.773717</td>\n",
       "      <td>-122.411647</td>\n",
       "      <td>Folsom St at 9th St</td>\n",
       "      <td>2019-01-23 08:18:07.5250</td>\n",
       "      <td>Subscriber</td>\n",
       "    </tr>\n",
       "    <tr>\n",
       "      <td>1211106</td>\n",
       "      <td>27</td>\n",
       "      <td>No</td>\n",
       "      <td>1184</td>\n",
       "      <td>102.0</td>\n",
       "      <td>37.766883</td>\n",
       "      <td>-122.399579</td>\n",
       "      <td>Irwin St at 8th St</td>\n",
       "      <td>2019-05-06 16:32:40.5040</td>\n",
       "      <td>1992.0</td>\n",
       "      <td>Male</td>\n",
       "      <td>NaN</td>\n",
       "      <td>74.0</td>\n",
       "      <td>37.776435</td>\n",
       "      <td>-122.426244</td>\n",
       "      <td>Laguna St at Hayes St</td>\n",
       "      <td>2019-05-06 16:12:56.1050</td>\n",
       "      <td>Customer</td>\n",
       "    </tr>\n",
       "    <tr>\n",
       "      <td>1091491</td>\n",
       "      <td>1177</td>\n",
       "      <td>No</td>\n",
       "      <td>201</td>\n",
       "      <td>50.0</td>\n",
       "      <td>37.780526</td>\n",
       "      <td>-122.390288</td>\n",
       "      <td>2nd St at Townsend St</td>\n",
       "      <td>2019-05-27 23:00:02.5810</td>\n",
       "      <td>1983.0</td>\n",
       "      <td>Male</td>\n",
       "      <td>NaN</td>\n",
       "      <td>30.0</td>\n",
       "      <td>37.776598</td>\n",
       "      <td>-122.395282</td>\n",
       "      <td>San Francisco Caltrain (Townsend St at 4th St)</td>\n",
       "      <td>2019-05-27 22:56:40.8880</td>\n",
       "      <td>Subscriber</td>\n",
       "    </tr>\n",
       "    <tr>\n",
       "      <td>466099</td>\n",
       "      <td>1449</td>\n",
       "      <td>No</td>\n",
       "      <td>276</td>\n",
       "      <td>125.0</td>\n",
       "      <td>37.759200</td>\n",
       "      <td>-122.409851</td>\n",
       "      <td>20th St at Bryant St</td>\n",
       "      <td>2019-04-18 06:51:28.8520</td>\n",
       "      <td>NaN</td>\n",
       "      <td>NaN</td>\n",
       "      <td>NaN</td>\n",
       "      <td>99.0</td>\n",
       "      <td>37.767037</td>\n",
       "      <td>-122.415442</td>\n",
       "      <td>Folsom St at 15th St</td>\n",
       "      <td>2019-04-18 06:46:52.6150</td>\n",
       "      <td>Customer</td>\n",
       "    </tr>\n",
       "    <tr>\n",
       "      <td>154302</td>\n",
       "      <td>4716</td>\n",
       "      <td>No</td>\n",
       "      <td>789</td>\n",
       "      <td>364.0</td>\n",
       "      <td>37.772000</td>\n",
       "      <td>-122.389970</td>\n",
       "      <td>China Basin St at 3rd St</td>\n",
       "      <td>2019-01-08 22:14:57.1380</td>\n",
       "      <td>1995.0</td>\n",
       "      <td>Male</td>\n",
       "      <td>NaN</td>\n",
       "      <td>9.0</td>\n",
       "      <td>37.798572</td>\n",
       "      <td>-122.400869</td>\n",
       "      <td>Broadway at Battery St</td>\n",
       "      <td>2019-01-08 22:01:47.4070</td>\n",
       "      <td>Subscriber</td>\n",
       "    </tr>\n",
       "    <tr>\n",
       "      <td>331802</td>\n",
       "      <td>1118</td>\n",
       "      <td>No</td>\n",
       "      <td>2172</td>\n",
       "      <td>81.0</td>\n",
       "      <td>37.775880</td>\n",
       "      <td>-122.393170</td>\n",
       "      <td>Berry St at 4th St</td>\n",
       "      <td>2019-06-08 15:27:35.6500</td>\n",
       "      <td>1992.0</td>\n",
       "      <td>Female</td>\n",
       "      <td>NaN</td>\n",
       "      <td>6.0</td>\n",
       "      <td>37.804770</td>\n",
       "      <td>-122.403234</td>\n",
       "      <td>The Embarcadero at Sansome St</td>\n",
       "      <td>2019-06-08 14:51:23.4750</td>\n",
       "      <td>Customer</td>\n",
       "    </tr>\n",
       "    <tr>\n",
       "      <td>1233023</td>\n",
       "      <td>1707</td>\n",
       "      <td>No</td>\n",
       "      <td>496</td>\n",
       "      <td>50.0</td>\n",
       "      <td>37.780526</td>\n",
       "      <td>-122.390288</td>\n",
       "      <td>2nd St at Townsend St</td>\n",
       "      <td>2019-05-02 15:22:01.5250</td>\n",
       "      <td>1992.0</td>\n",
       "      <td>Male</td>\n",
       "      <td>NaN</td>\n",
       "      <td>21.0</td>\n",
       "      <td>37.789625</td>\n",
       "      <td>-122.400811</td>\n",
       "      <td>Montgomery St BART Station (Market St at 2nd St)</td>\n",
       "      <td>2019-05-02 15:13:44.8860</td>\n",
       "      <td>Subscriber</td>\n",
       "    </tr>\n",
       "    <tr>\n",
       "      <td>612735</td>\n",
       "      <td>5805</td>\n",
       "      <td>No</td>\n",
       "      <td>560</td>\n",
       "      <td>312.0</td>\n",
       "      <td>37.329732</td>\n",
       "      <td>-121.901782</td>\n",
       "      <td>San Jose Diridon Station</td>\n",
       "      <td>2019-04-02 07:10:09.3740</td>\n",
       "      <td>1977.0</td>\n",
       "      <td>Male</td>\n",
       "      <td>NaN</td>\n",
       "      <td>295.0</td>\n",
       "      <td>37.332794</td>\n",
       "      <td>-121.875926</td>\n",
       "      <td>William St at 10th St</td>\n",
       "      <td>2019-04-02 07:00:49.1890</td>\n",
       "      <td>Subscriber</td>\n",
       "    </tr>\n",
       "    <tr>\n",
       "      <td>317817</td>\n",
       "      <td>3664</td>\n",
       "      <td>No</td>\n",
       "      <td>81</td>\n",
       "      <td>337.0</td>\n",
       "      <td>37.806970</td>\n",
       "      <td>-122.266588</td>\n",
       "      <td>Webster St at 19th St</td>\n",
       "      <td>2019-06-11 07:05:11.9310</td>\n",
       "      <td>1964.0</td>\n",
       "      <td>Male</td>\n",
       "      <td>NaN</td>\n",
       "      <td>182.0</td>\n",
       "      <td>37.809013</td>\n",
       "      <td>-122.268247</td>\n",
       "      <td>19th Street BART Station</td>\n",
       "      <td>2019-06-11 07:03:50.4090</td>\n",
       "      <td>Subscriber</td>\n",
       "    </tr>\n",
       "    <tr>\n",
       "      <td>521873</td>\n",
       "      <td>3208</td>\n",
       "      <td>No</td>\n",
       "      <td>527</td>\n",
       "      <td>100.0</td>\n",
       "      <td>37.767100</td>\n",
       "      <td>-122.410662</td>\n",
       "      <td>Bryant St at 15th St</td>\n",
       "      <td>2019-04-11 08:17:33.1690</td>\n",
       "      <td>NaN</td>\n",
       "      <td>NaN</td>\n",
       "      <td>NaN</td>\n",
       "      <td>75.0</td>\n",
       "      <td>37.773793</td>\n",
       "      <td>-122.421239</td>\n",
       "      <td>Market St at Franklin St</td>\n",
       "      <td>2019-04-11 08:08:45.6090</td>\n",
       "      <td>Subscriber</td>\n",
       "    </tr>\n",
       "  </tbody>\n",
       "</table>\n",
       "</div>"
      ],
      "text/plain": [
       "         bike_id bike_share_for_all_trip  duration_sec  end_station_id  \\\n",
       "74117       2030                      No           571            25.0   \n",
       "1211106       27                      No          1184           102.0   \n",
       "1091491     1177                      No           201            50.0   \n",
       "466099      1449                      No           276           125.0   \n",
       "154302      4716                      No           789           364.0   \n",
       "331802      1118                      No          2172            81.0   \n",
       "1233023     1707                      No           496            50.0   \n",
       "612735      5805                      No           560           312.0   \n",
       "317817      3664                      No            81           337.0   \n",
       "521873      3208                      No           527           100.0   \n",
       "\n",
       "         end_station_latitude  end_station_longitude  \\\n",
       "74117               37.787522            -122.397405   \n",
       "1211106             37.766883            -122.399579   \n",
       "1091491             37.780526            -122.390288   \n",
       "466099              37.759200            -122.409851   \n",
       "154302              37.772000            -122.389970   \n",
       "331802              37.775880            -122.393170   \n",
       "1233023             37.780526            -122.390288   \n",
       "612735              37.329732            -121.901782   \n",
       "317817              37.806970            -122.266588   \n",
       "521873              37.767100            -122.410662   \n",
       "\n",
       "                 end_station_name                  end_time  \\\n",
       "74117         Howard St at 2nd St  2019-01-23 08:27:39.1500   \n",
       "1211106        Irwin St at 8th St  2019-05-06 16:32:40.5040   \n",
       "1091491     2nd St at Townsend St  2019-05-27 23:00:02.5810   \n",
       "466099       20th St at Bryant St  2019-04-18 06:51:28.8520   \n",
       "154302   China Basin St at 3rd St  2019-01-08 22:14:57.1380   \n",
       "331802         Berry St at 4th St  2019-06-08 15:27:35.6500   \n",
       "1233023     2nd St at Townsend St  2019-05-02 15:22:01.5250   \n",
       "612735   San Jose Diridon Station  2019-04-02 07:10:09.3740   \n",
       "317817      Webster St at 19th St  2019-06-11 07:05:11.9310   \n",
       "521873       Bryant St at 15th St  2019-04-11 08:17:33.1690   \n",
       "\n",
       "         member_birth_year member_gender rental_access_method  \\\n",
       "74117               1986.0          Male                  NaN   \n",
       "1211106             1992.0          Male                  NaN   \n",
       "1091491             1983.0          Male                  NaN   \n",
       "466099                 NaN           NaN                  NaN   \n",
       "154302              1995.0          Male                  NaN   \n",
       "331802              1992.0        Female                  NaN   \n",
       "1233023             1992.0          Male                  NaN   \n",
       "612735              1977.0          Male                  NaN   \n",
       "317817              1964.0          Male                  NaN   \n",
       "521873                 NaN           NaN                  NaN   \n",
       "\n",
       "         start_station_id  start_station_latitude  start_station_longitude  \\\n",
       "74117                78.0               37.773717              -122.411647   \n",
       "1211106              74.0               37.776435              -122.426244   \n",
       "1091491              30.0               37.776598              -122.395282   \n",
       "466099               99.0               37.767037              -122.415442   \n",
       "154302                9.0               37.798572              -122.400869   \n",
       "331802                6.0               37.804770              -122.403234   \n",
       "1233023              21.0               37.789625              -122.400811   \n",
       "612735              295.0               37.332794              -121.875926   \n",
       "317817              182.0               37.809013              -122.268247   \n",
       "521873               75.0               37.773793              -122.421239   \n",
       "\n",
       "                                       start_station_name  \\\n",
       "74117                                 Folsom St at 9th St   \n",
       "1211106                             Laguna St at Hayes St   \n",
       "1091491    San Francisco Caltrain (Townsend St at 4th St)   \n",
       "466099                               Folsom St at 15th St   \n",
       "154302                             Broadway at Battery St   \n",
       "331802                      The Embarcadero at Sansome St   \n",
       "1233023  Montgomery St BART Station (Market St at 2nd St)   \n",
       "612735                              William St at 10th St   \n",
       "317817                           19th Street BART Station   \n",
       "521873                           Market St at Franklin St   \n",
       "\n",
       "                       start_time   user_type  \n",
       "74117    2019-01-23 08:18:07.5250  Subscriber  \n",
       "1211106  2019-05-06 16:12:56.1050    Customer  \n",
       "1091491  2019-05-27 22:56:40.8880  Subscriber  \n",
       "466099   2019-04-18 06:46:52.6150    Customer  \n",
       "154302   2019-01-08 22:01:47.4070  Subscriber  \n",
       "331802   2019-06-08 14:51:23.4750    Customer  \n",
       "1233023  2019-05-02 15:13:44.8860  Subscriber  \n",
       "612735   2019-04-02 07:00:49.1890  Subscriber  \n",
       "317817   2019-06-11 07:03:50.4090  Subscriber  \n",
       "521873   2019-04-11 08:08:45.6090  Subscriber  "
      ]
     },
     "execution_count": 3,
     "metadata": {},
     "output_type": "execute_result"
    }
   ],
   "source": [
    "# Understanding the dataset\n",
    "df.sample(10)"
   ]
  },
  {
   "cell_type": "code",
   "execution_count": 4,
   "metadata": {},
   "outputs": [
    {
     "name": "stdout",
     "output_type": "stream",
     "text": [
      "<class 'pandas.core.frame.DataFrame'>\n",
      "RangeIndex: 1244839 entries, 0 to 1244838\n",
      "Data columns (total 17 columns):\n",
      "bike_id                    1244839 non-null int64\n",
      "bike_share_for_all_trip    1240946 non-null object\n",
      "duration_sec               1244839 non-null int64\n",
      "end_station_id             1241832 non-null float64\n",
      "end_station_latitude       1244839 non-null float64\n",
      "end_station_longitude      1244839 non-null float64\n",
      "end_station_name           1241832 non-null object\n",
      "end_time                   1244839 non-null object\n",
      "member_birth_year          1176326 non-null float64\n",
      "member_gender              1176550 non-null object\n",
      "rental_access_method       3893 non-null object\n",
      "start_station_id           1241934 non-null float64\n",
      "start_station_latitude     1244839 non-null float64\n",
      "start_station_longitude    1244839 non-null float64\n",
      "start_station_name         1241934 non-null object\n",
      "start_time                 1244839 non-null object\n",
      "user_type                  1244839 non-null object\n",
      "dtypes: float64(7), int64(2), object(8)\n",
      "memory usage: 161.5+ MB\n"
     ]
    }
   ],
   "source": [
    "df.info()"
   ]
  },
  {
   "cell_type": "code",
   "execution_count": 5,
   "metadata": {},
   "outputs": [
    {
     "data": {
      "text/plain": [
       "(1244839, 17)"
      ]
     },
     "execution_count": 5,
     "metadata": {},
     "output_type": "execute_result"
    }
   ],
   "source": [
    "df.shape"
   ]
  },
  {
   "cell_type": "code",
   "execution_count": 6,
   "metadata": {},
   "outputs": [
    {
     "data": {
      "text/plain": [
       "0"
      ]
     },
     "execution_count": 6,
     "metadata": {},
     "output_type": "execute_result"
    }
   ],
   "source": [
    "# check duplicates\n",
    "df.duplicated().sum()"
   ]
  },
  {
   "cell_type": "code",
   "execution_count": 7,
   "metadata": {},
   "outputs": [
    {
     "data": {
      "text/plain": [
       "bike_id                          0\n",
       "bike_share_for_all_trip       3893\n",
       "duration_sec                     0\n",
       "end_station_id                3007\n",
       "end_station_latitude             0\n",
       "end_station_longitude            0\n",
       "end_station_name              3007\n",
       "end_time                         0\n",
       "member_birth_year            68513\n",
       "member_gender                68289\n",
       "rental_access_method       1240946\n",
       "start_station_id              2905\n",
       "start_station_latitude           0\n",
       "start_station_longitude          0\n",
       "start_station_name            2905\n",
       "start_time                       0\n",
       "user_type                        0\n",
       "dtype: int64"
      ]
     },
     "execution_count": 7,
     "metadata": {},
     "output_type": "execute_result"
    }
   ],
   "source": [
    "# check NaN values\n",
    "df.isna().sum()"
   ]
  },
  {
   "cell_type": "markdown",
   "metadata": {},
   "source": [
    "### Cleaning Data\n",
    "After the assessing data process, it was possible identify some quality issues to be cleaned for the analysis, these are described below:"
   ]
  },
  {
   "cell_type": "code",
   "execution_count": 8,
   "metadata": {},
   "outputs": [],
   "source": [
    "# Copying the dataset\n",
    "df_clean = df.copy()"
   ]
  },
  {
   "cell_type": "markdown",
   "metadata": {},
   "source": [
    "#### There are not appropiate data types for some columns\n",
    "##### Define\n",
    "- Convert the following columns to string: start_station_id, end_station_id and bike_id\n",
    "- Convert the following columns to timestamp: start_time and end_time\n",
    "- Convert the following column to integer: member_birth_year\n",
    "- Convert the following column to category: user_type, member_gender and bike_share_for_all_trip\n",
    "\n",
    "##### Code"
   ]
  },
  {
   "cell_type": "code",
   "execution_count": 9,
   "metadata": {},
   "outputs": [],
   "source": [
    "def change_to_string(df,fields):\n",
    "    for field in fields:\n",
    "        df[field] = df[field].astype(np.object)\n",
    "\n",
    "\n",
    "def change_to_timestamp(df,fields):\n",
    "    for field in fields:\n",
    "        df[field] = df[field].astype('datetime64[ns]')\n",
    "\n",
    "\n",
    "def change_to_category(df,fields):\n",
    "    for field in fields:\n",
    "        df[field] = df[field].astype('category')"
   ]
  },
  {
   "cell_type": "code",
   "execution_count": 10,
   "metadata": {},
   "outputs": [],
   "source": [
    "change_to_string (df_clean,['start_station_id', 'end_station_id','bike_id'])\n",
    "change_to_timestamp (df_clean,['start_time', 'end_time'])\n",
    "change_to_category (df_clean,['user_type', 'member_gender', 'bike_share_for_all_trip'])"
   ]
  },
  {
   "cell_type": "markdown",
   "metadata": {},
   "source": [
    "##### Test"
   ]
  },
  {
   "cell_type": "code",
   "execution_count": 11,
   "metadata": {},
   "outputs": [
    {
     "name": "stdout",
     "output_type": "stream",
     "text": [
      "<class 'pandas.core.frame.DataFrame'>\n",
      "RangeIndex: 1244839 entries, 0 to 1244838\n",
      "Data columns (total 17 columns):\n",
      "bike_id                    1244839 non-null object\n",
      "bike_share_for_all_trip    1240946 non-null category\n",
      "duration_sec               1244839 non-null int64\n",
      "end_station_id             1241832 non-null object\n",
      "end_station_latitude       1244839 non-null float64\n",
      "end_station_longitude      1244839 non-null float64\n",
      "end_station_name           1241832 non-null object\n",
      "end_time                   1244839 non-null datetime64[ns]\n",
      "member_birth_year          1176326 non-null float64\n",
      "member_gender              1176550 non-null category\n",
      "rental_access_method       3893 non-null object\n",
      "start_station_id           1241934 non-null object\n",
      "start_station_latitude     1244839 non-null float64\n",
      "start_station_longitude    1244839 non-null float64\n",
      "start_station_name         1241934 non-null object\n",
      "start_time                 1244839 non-null datetime64[ns]\n",
      "user_type                  1244839 non-null category\n",
      "dtypes: category(3), datetime64[ns](2), float64(5), int64(1), object(6)\n",
      "memory usage: 136.5+ MB\n"
     ]
    }
   ],
   "source": [
    "df_clean.info()"
   ]
  },
  {
   "cell_type": "markdown",
   "metadata": {},
   "source": [
    "#### There are some missing values\n",
    "##### Define\n",
    "- Drop the rows with nulls start_station_id or end_station_id\n",
    "- Drop the rows with null member_birth_year\n",
    "- Drop the column rental_access_method\n",
    "\n",
    "#### Code"
   ]
  },
  {
   "cell_type": "code",
   "execution_count": 12,
   "metadata": {},
   "outputs": [
    {
     "data": {
      "text/plain": [
       "2905"
      ]
     },
     "execution_count": 12,
     "metadata": {},
     "output_type": "execute_result"
    }
   ],
   "source": [
    "df_clean.start_station_id.isna().sum()"
   ]
  },
  {
   "cell_type": "code",
   "execution_count": 13,
   "metadata": {},
   "outputs": [],
   "source": [
    "df_clean.drop(df_clean[df_clean['start_station_id'].isnull()].index, inplace = True)"
   ]
  },
  {
   "cell_type": "code",
   "execution_count": 14,
   "metadata": {},
   "outputs": [
    {
     "data": {
      "text/plain": [
       "543"
      ]
     },
     "execution_count": 14,
     "metadata": {},
     "output_type": "execute_result"
    }
   ],
   "source": [
    "df_clean.end_station_id.isna().sum()"
   ]
  },
  {
   "cell_type": "code",
   "execution_count": 15,
   "metadata": {},
   "outputs": [],
   "source": [
    "df_clean.drop(df_clean[df_clean['end_station_id'].isnull()].index, inplace = True)"
   ]
  },
  {
   "cell_type": "code",
   "execution_count": 16,
   "metadata": {},
   "outputs": [],
   "source": [
    "df_clean.drop(df_clean[df_clean['member_birth_year'].isnull()].index, inplace = True)\n",
    "\n",
    "df_clean = df_clean.drop(['rental_access_method'], axis=1)\n"
   ]
  },
  {
   "cell_type": "markdown",
   "metadata": {},
   "source": [
    "##### Test"
   ]
  },
  {
   "cell_type": "code",
   "execution_count": 17,
   "metadata": {},
   "outputs": [
    {
     "data": {
      "text/plain": [
       "bike_id                       0\n",
       "bike_share_for_all_trip    1025\n",
       "duration_sec                  0\n",
       "end_station_id                0\n",
       "end_station_latitude          0\n",
       "end_station_longitude         0\n",
       "end_station_name              0\n",
       "end_time                      0\n",
       "member_birth_year             0\n",
       "member_gender                 0\n",
       "start_station_id              0\n",
       "start_station_latitude        0\n",
       "start_station_longitude       0\n",
       "start_station_name            0\n",
       "start_time                    0\n",
       "user_type                     0\n",
       "dtype: int64"
      ]
     },
     "execution_count": 17,
     "metadata": {},
     "output_type": "execute_result"
    }
   ],
   "source": [
    "df_clean.isna().sum()"
   ]
  },
  {
   "cell_type": "markdown",
   "metadata": {},
   "source": [
    "#### Standardizing column values\n",
    "##### Define\n",
    "- Standardize gender column values\n",
    "\n",
    "#### Code"
   ]
  },
  {
   "cell_type": "code",
   "execution_count": 18,
   "metadata": {},
   "outputs": [
    {
     "data": {
      "text/plain": [
       "Male      870973\n",
       "Female    279637\n",
       "Other      22197\n",
       "M            906\n",
       "F            119\n",
       "O              0\n",
       "?              0\n",
       "Name: member_gender, dtype: int64"
      ]
     },
     "execution_count": 18,
     "metadata": {},
     "output_type": "execute_result"
    }
   ],
   "source": [
    "df_clean.member_gender.value_counts()"
   ]
  },
  {
   "cell_type": "code",
   "execution_count": 19,
   "metadata": {},
   "outputs": [],
   "source": [
    "df_clean = df_clean.replace({'member_gender' : {'M': 'Male', 'F': 'Female', 'O': 'Other', '?': 'Other'}})"
   ]
  },
  {
   "cell_type": "markdown",
   "metadata": {},
   "source": [
    "##### Test"
   ]
  },
  {
   "cell_type": "code",
   "execution_count": 20,
   "metadata": {},
   "outputs": [
    {
     "data": {
      "text/plain": [
       "Male      871879\n",
       "Female    279756\n",
       "Other      22197\n",
       "Name: member_gender, dtype: int64"
      ]
     },
     "execution_count": 20,
     "metadata": {},
     "output_type": "execute_result"
    }
   ],
   "source": [
    "df_clean.member_gender.value_counts()"
   ]
  },
  {
   "cell_type": "markdown",
   "metadata": {},
   "source": [
    "#### Adding interesting columns in the dataset\n",
    "##### Define\n",
    "- Add a column for the member age, calculating it by subtracting their birth year from the current year (2019)\n",
    "- Add columns for the start month and day of the week\n",
    "- Add a column for the duration in minutes\n",
    "\n",
    "#### Code"
   ]
  },
  {
   "cell_type": "code",
   "execution_count": 21,
   "metadata": {},
   "outputs": [],
   "source": [
    "# Member Age\n",
    "current_year = 2019\n",
    "df_clean['member_age'] = current_year - df_clean['member_birth_year']\n",
    "\n",
    "# Start month\n",
    "df_clean['start_month'] = df_clean['start_time'].dt.strftime('%B')\n",
    "\n",
    "# Start weekday\n",
    "df_clean['start_weekday'] = df_clean['start_time'].dt.strftime('%a')\n",
    "\n",
    "# Duration in minutes\n",
    "df_clean['duration_min'] = df_clean['duration_sec'] / 60"
   ]
  },
  {
   "cell_type": "markdown",
   "metadata": {},
   "source": [
    "##### Test"
   ]
  },
  {
   "cell_type": "code",
   "execution_count": 22,
   "metadata": {},
   "outputs": [
    {
     "name": "stdout",
     "output_type": "stream",
     "text": [
      "<class 'pandas.core.frame.DataFrame'>\n",
      "Int64Index: 1173832 entries, 0 to 1244838\n",
      "Data columns (total 20 columns):\n",
      "bike_id                    1173832 non-null object\n",
      "bike_share_for_all_trip    1172807 non-null category\n",
      "duration_sec               1173832 non-null int64\n",
      "end_station_id             1173832 non-null object\n",
      "end_station_latitude       1173832 non-null float64\n",
      "end_station_longitude      1173832 non-null float64\n",
      "end_station_name           1173832 non-null object\n",
      "end_time                   1173832 non-null datetime64[ns]\n",
      "member_birth_year          1173832 non-null float64\n",
      "member_gender              1173832 non-null object\n",
      "start_station_id           1173832 non-null object\n",
      "start_station_latitude     1173832 non-null float64\n",
      "start_station_longitude    1173832 non-null float64\n",
      "start_station_name         1173832 non-null object\n",
      "start_time                 1173832 non-null datetime64[ns]\n",
      "user_type                  1173832 non-null category\n",
      "member_age                 1173832 non-null float64\n",
      "start_month                1173832 non-null object\n",
      "start_weekday              1173832 non-null object\n",
      "duration_min               1173832 non-null float64\n",
      "dtypes: category(2), datetime64[ns](2), float64(7), int64(1), object(8)\n",
      "memory usage: 172.4+ MB\n"
     ]
    }
   ],
   "source": [
    "df_clean.info()"
   ]
  },
  {
   "cell_type": "code",
   "execution_count": 23,
   "metadata": {},
   "outputs": [
    {
     "data": {
      "text/html": [
       "<div>\n",
       "<style scoped>\n",
       "    .dataframe tbody tr th:only-of-type {\n",
       "        vertical-align: middle;\n",
       "    }\n",
       "\n",
       "    .dataframe tbody tr th {\n",
       "        vertical-align: top;\n",
       "    }\n",
       "\n",
       "    .dataframe thead th {\n",
       "        text-align: right;\n",
       "    }\n",
       "</style>\n",
       "<table border=\"1\" class=\"dataframe\">\n",
       "  <thead>\n",
       "    <tr style=\"text-align: right;\">\n",
       "      <th></th>\n",
       "      <th>bike_id</th>\n",
       "      <th>bike_share_for_all_trip</th>\n",
       "      <th>duration_sec</th>\n",
       "      <th>end_station_id</th>\n",
       "      <th>end_station_latitude</th>\n",
       "      <th>end_station_longitude</th>\n",
       "      <th>end_station_name</th>\n",
       "      <th>end_time</th>\n",
       "      <th>member_birth_year</th>\n",
       "      <th>member_gender</th>\n",
       "      <th>start_station_id</th>\n",
       "      <th>start_station_latitude</th>\n",
       "      <th>start_station_longitude</th>\n",
       "      <th>start_station_name</th>\n",
       "      <th>start_time</th>\n",
       "      <th>user_type</th>\n",
       "      <th>member_age</th>\n",
       "      <th>start_month</th>\n",
       "      <th>start_weekday</th>\n",
       "      <th>duration_min</th>\n",
       "    </tr>\n",
       "  </thead>\n",
       "  <tbody>\n",
       "    <tr>\n",
       "      <td>420066</td>\n",
       "      <td>547</td>\n",
       "      <td>No</td>\n",
       "      <td>1052</td>\n",
       "      <td>67</td>\n",
       "      <td>37.776639</td>\n",
       "      <td>-122.395526</td>\n",
       "      <td>San Francisco Caltrain Station 2  (Townsend St...</td>\n",
       "      <td>2019-04-25 08:43:21.948</td>\n",
       "      <td>1993.0</td>\n",
       "      <td>Male</td>\n",
       "      <td>133</td>\n",
       "      <td>37.755213</td>\n",
       "      <td>-122.420975</td>\n",
       "      <td>Valencia St at 22nd St</td>\n",
       "      <td>2019-04-25 08:25:49.782</td>\n",
       "      <td>Customer</td>\n",
       "      <td>26.0</td>\n",
       "      <td>April</td>\n",
       "      <td>Thu</td>\n",
       "      <td>17.533333</td>\n",
       "    </tr>\n",
       "    <tr>\n",
       "      <td>591431</td>\n",
       "      <td>6536</td>\n",
       "      <td>No</td>\n",
       "      <td>584</td>\n",
       "      <td>15</td>\n",
       "      <td>37.795392</td>\n",
       "      <td>-122.394203</td>\n",
       "      <td>San Francisco Ferry Building (Harry Bridges Pl...</td>\n",
       "      <td>2019-04-04 08:47:58.891</td>\n",
       "      <td>1989.0</td>\n",
       "      <td>Female</td>\n",
       "      <td>5</td>\n",
       "      <td>37.783899</td>\n",
       "      <td>-122.408445</td>\n",
       "      <td>Powell St BART Station (Market St at 5th St)</td>\n",
       "      <td>2019-04-04 08:38:14.293</td>\n",
       "      <td>Subscriber</td>\n",
       "      <td>30.0</td>\n",
       "      <td>April</td>\n",
       "      <td>Thu</td>\n",
       "      <td>9.733333</td>\n",
       "    </tr>\n",
       "    <tr>\n",
       "      <td>836590</td>\n",
       "      <td>2881</td>\n",
       "      <td>No</td>\n",
       "      <td>625</td>\n",
       "      <td>59</td>\n",
       "      <td>37.774814</td>\n",
       "      <td>-122.418954</td>\n",
       "      <td>S Van Ness Ave at Market St</td>\n",
       "      <td>2019-03-07 10:03:19.628</td>\n",
       "      <td>1985.0</td>\n",
       "      <td>Male</td>\n",
       "      <td>133</td>\n",
       "      <td>37.755213</td>\n",
       "      <td>-122.420975</td>\n",
       "      <td>Valencia St at 22nd St</td>\n",
       "      <td>2019-03-07 09:52:54.503</td>\n",
       "      <td>Subscriber</td>\n",
       "      <td>34.0</td>\n",
       "      <td>March</td>\n",
       "      <td>Thu</td>\n",
       "      <td>10.416667</td>\n",
       "    </tr>\n",
       "    <tr>\n",
       "      <td>1198194</td>\n",
       "      <td>1591</td>\n",
       "      <td>No</td>\n",
       "      <td>1082</td>\n",
       "      <td>364</td>\n",
       "      <td>37.772000</td>\n",
       "      <td>-122.389970</td>\n",
       "      <td>China Basin St at 3rd St</td>\n",
       "      <td>2019-05-08 10:03:47.507</td>\n",
       "      <td>1983.0</td>\n",
       "      <td>Male</td>\n",
       "      <td>16</td>\n",
       "      <td>37.794130</td>\n",
       "      <td>-122.394430</td>\n",
       "      <td>Steuart St at Market St</td>\n",
       "      <td>2019-05-08 09:45:45.336</td>\n",
       "      <td>Subscriber</td>\n",
       "      <td>36.0</td>\n",
       "      <td>May</td>\n",
       "      <td>Wed</td>\n",
       "      <td>18.033333</td>\n",
       "    </tr>\n",
       "    <tr>\n",
       "      <td>405288</td>\n",
       "      <td>3366</td>\n",
       "      <td>No</td>\n",
       "      <td>773</td>\n",
       "      <td>50</td>\n",
       "      <td>37.780526</td>\n",
       "      <td>-122.390288</td>\n",
       "      <td>2nd St at Townsend St</td>\n",
       "      <td>2019-04-27 12:20:06.172</td>\n",
       "      <td>1996.0</td>\n",
       "      <td>Male</td>\n",
       "      <td>370</td>\n",
       "      <td>37.787327</td>\n",
       "      <td>-122.413278</td>\n",
       "      <td>Jones St at Post St</td>\n",
       "      <td>2019-04-27 12:07:13.105</td>\n",
       "      <td>Customer</td>\n",
       "      <td>23.0</td>\n",
       "      <td>April</td>\n",
       "      <td>Sat</td>\n",
       "      <td>12.883333</td>\n",
       "    </tr>\n",
       "    <tr>\n",
       "      <td>857200</td>\n",
       "      <td>5544</td>\n",
       "      <td>No</td>\n",
       "      <td>671</td>\n",
       "      <td>85</td>\n",
       "      <td>37.770083</td>\n",
       "      <td>-122.429156</td>\n",
       "      <td>Church St at Duboce Ave</td>\n",
       "      <td>2019-03-04 17:41:54.125</td>\n",
       "      <td>1983.0</td>\n",
       "      <td>Female</td>\n",
       "      <td>79</td>\n",
       "      <td>37.773492</td>\n",
       "      <td>-122.403672</td>\n",
       "      <td>7th St at Brannan St</td>\n",
       "      <td>2019-03-04 17:30:42.337</td>\n",
       "      <td>Subscriber</td>\n",
       "      <td>36.0</td>\n",
       "      <td>March</td>\n",
       "      <td>Mon</td>\n",
       "      <td>11.183333</td>\n",
       "    </tr>\n",
       "    <tr>\n",
       "      <td>1117381</td>\n",
       "      <td>3537</td>\n",
       "      <td>No</td>\n",
       "      <td>697</td>\n",
       "      <td>16</td>\n",
       "      <td>37.794130</td>\n",
       "      <td>-122.394430</td>\n",
       "      <td>Steuart St at Market St</td>\n",
       "      <td>2019-05-22 17:32:46.975</td>\n",
       "      <td>1988.0</td>\n",
       "      <td>Male</td>\n",
       "      <td>93</td>\n",
       "      <td>37.770407</td>\n",
       "      <td>-122.391198</td>\n",
       "      <td>4th St at Mission Bay Blvd S</td>\n",
       "      <td>2019-05-22 17:21:09.304</td>\n",
       "      <td>Subscriber</td>\n",
       "      <td>31.0</td>\n",
       "      <td>May</td>\n",
       "      <td>Wed</td>\n",
       "      <td>11.616667</td>\n",
       "    </tr>\n",
       "    <tr>\n",
       "      <td>888442</td>\n",
       "      <td>5789</td>\n",
       "      <td>No</td>\n",
       "      <td>221</td>\n",
       "      <td>237</td>\n",
       "      <td>37.775232</td>\n",
       "      <td>-122.224498</td>\n",
       "      <td>Fruitvale BART Station</td>\n",
       "      <td>2019-02-28 07:47:48.857</td>\n",
       "      <td>1985.0</td>\n",
       "      <td>Male</td>\n",
       "      <td>227</td>\n",
       "      <td>37.783757</td>\n",
       "      <td>-122.222603</td>\n",
       "      <td>Foothill Blvd at Fruitvale Ave</td>\n",
       "      <td>2019-02-28 07:44:06.933</td>\n",
       "      <td>Subscriber</td>\n",
       "      <td>34.0</td>\n",
       "      <td>February</td>\n",
       "      <td>Thu</td>\n",
       "      <td>3.683333</td>\n",
       "    </tr>\n",
       "    <tr>\n",
       "      <td>188956</td>\n",
       "      <td>2165</td>\n",
       "      <td>No</td>\n",
       "      <td>527</td>\n",
       "      <td>17</td>\n",
       "      <td>37.792251</td>\n",
       "      <td>-122.397086</td>\n",
       "      <td>Embarcadero BART Station (Beale St at Market St)</td>\n",
       "      <td>2019-01-02 08:24:42.266</td>\n",
       "      <td>1956.0</td>\n",
       "      <td>Male</td>\n",
       "      <td>368</td>\n",
       "      <td>37.785434</td>\n",
       "      <td>-122.419622</td>\n",
       "      <td>Myrtle St at Polk St</td>\n",
       "      <td>2019-01-02 08:15:54.818</td>\n",
       "      <td>Subscriber</td>\n",
       "      <td>63.0</td>\n",
       "      <td>January</td>\n",
       "      <td>Wed</td>\n",
       "      <td>8.783333</td>\n",
       "    </tr>\n",
       "    <tr>\n",
       "      <td>116887</td>\n",
       "      <td>5142</td>\n",
       "      <td>No</td>\n",
       "      <td>264</td>\n",
       "      <td>64</td>\n",
       "      <td>37.776754</td>\n",
       "      <td>-122.399018</td>\n",
       "      <td>5th St at Brannan St</td>\n",
       "      <td>2019-01-15 10:38:28.442</td>\n",
       "      <td>1983.0</td>\n",
       "      <td>Other</td>\n",
       "      <td>5</td>\n",
       "      <td>37.783899</td>\n",
       "      <td>-122.408445</td>\n",
       "      <td>Powell St BART Station (Market St at 5th St)</td>\n",
       "      <td>2019-01-15 10:34:03.935</td>\n",
       "      <td>Subscriber</td>\n",
       "      <td>36.0</td>\n",
       "      <td>January</td>\n",
       "      <td>Tue</td>\n",
       "      <td>4.400000</td>\n",
       "    </tr>\n",
       "  </tbody>\n",
       "</table>\n",
       "</div>"
      ],
      "text/plain": [
       "        bike_id bike_share_for_all_trip  duration_sec end_station_id  \\\n",
       "420066      547                      No          1052             67   \n",
       "591431     6536                      No           584             15   \n",
       "836590     2881                      No           625             59   \n",
       "1198194    1591                      No          1082            364   \n",
       "405288     3366                      No           773             50   \n",
       "857200     5544                      No           671             85   \n",
       "1117381    3537                      No           697             16   \n",
       "888442     5789                      No           221            237   \n",
       "188956     2165                      No           527             17   \n",
       "116887     5142                      No           264             64   \n",
       "\n",
       "         end_station_latitude  end_station_longitude  \\\n",
       "420066              37.776639            -122.395526   \n",
       "591431              37.795392            -122.394203   \n",
       "836590              37.774814            -122.418954   \n",
       "1198194             37.772000            -122.389970   \n",
       "405288              37.780526            -122.390288   \n",
       "857200              37.770083            -122.429156   \n",
       "1117381             37.794130            -122.394430   \n",
       "888442              37.775232            -122.224498   \n",
       "188956              37.792251            -122.397086   \n",
       "116887              37.776754            -122.399018   \n",
       "\n",
       "                                          end_station_name  \\\n",
       "420066   San Francisco Caltrain Station 2  (Townsend St...   \n",
       "591431   San Francisco Ferry Building (Harry Bridges Pl...   \n",
       "836590                         S Van Ness Ave at Market St   \n",
       "1198194                           China Basin St at 3rd St   \n",
       "405288                               2nd St at Townsend St   \n",
       "857200                             Church St at Duboce Ave   \n",
       "1117381                            Steuart St at Market St   \n",
       "888442                              Fruitvale BART Station   \n",
       "188956    Embarcadero BART Station (Beale St at Market St)   \n",
       "116887                                5th St at Brannan St   \n",
       "\n",
       "                       end_time  member_birth_year member_gender  \\\n",
       "420066  2019-04-25 08:43:21.948             1993.0          Male   \n",
       "591431  2019-04-04 08:47:58.891             1989.0        Female   \n",
       "836590  2019-03-07 10:03:19.628             1985.0          Male   \n",
       "1198194 2019-05-08 10:03:47.507             1983.0          Male   \n",
       "405288  2019-04-27 12:20:06.172             1996.0          Male   \n",
       "857200  2019-03-04 17:41:54.125             1983.0        Female   \n",
       "1117381 2019-05-22 17:32:46.975             1988.0          Male   \n",
       "888442  2019-02-28 07:47:48.857             1985.0          Male   \n",
       "188956  2019-01-02 08:24:42.266             1956.0          Male   \n",
       "116887  2019-01-15 10:38:28.442             1983.0         Other   \n",
       "\n",
       "        start_station_id  start_station_latitude  start_station_longitude  \\\n",
       "420066               133               37.755213              -122.420975   \n",
       "591431                 5               37.783899              -122.408445   \n",
       "836590               133               37.755213              -122.420975   \n",
       "1198194               16               37.794130              -122.394430   \n",
       "405288               370               37.787327              -122.413278   \n",
       "857200                79               37.773492              -122.403672   \n",
       "1117381               93               37.770407              -122.391198   \n",
       "888442               227               37.783757              -122.222603   \n",
       "188956               368               37.785434              -122.419622   \n",
       "116887                 5               37.783899              -122.408445   \n",
       "\n",
       "                                   start_station_name              start_time  \\\n",
       "420066                         Valencia St at 22nd St 2019-04-25 08:25:49.782   \n",
       "591431   Powell St BART Station (Market St at 5th St) 2019-04-04 08:38:14.293   \n",
       "836590                         Valencia St at 22nd St 2019-03-07 09:52:54.503   \n",
       "1198194                       Steuart St at Market St 2019-05-08 09:45:45.336   \n",
       "405288                            Jones St at Post St 2019-04-27 12:07:13.105   \n",
       "857200                           7th St at Brannan St 2019-03-04 17:30:42.337   \n",
       "1117381                  4th St at Mission Bay Blvd S 2019-05-22 17:21:09.304   \n",
       "888442                 Foothill Blvd at Fruitvale Ave 2019-02-28 07:44:06.933   \n",
       "188956                           Myrtle St at Polk St 2019-01-02 08:15:54.818   \n",
       "116887   Powell St BART Station (Market St at 5th St) 2019-01-15 10:34:03.935   \n",
       "\n",
       "          user_type  member_age start_month start_weekday  duration_min  \n",
       "420066     Customer        26.0       April           Thu     17.533333  \n",
       "591431   Subscriber        30.0       April           Thu      9.733333  \n",
       "836590   Subscriber        34.0       March           Thu     10.416667  \n",
       "1198194  Subscriber        36.0         May           Wed     18.033333  \n",
       "405288     Customer        23.0       April           Sat     12.883333  \n",
       "857200   Subscriber        36.0       March           Mon     11.183333  \n",
       "1117381  Subscriber        31.0         May           Wed     11.616667  \n",
       "888442   Subscriber        34.0    February           Thu      3.683333  \n",
       "188956   Subscriber        63.0     January           Wed      8.783333  \n",
       "116887   Subscriber        36.0     January           Tue      4.400000  "
      ]
     },
     "execution_count": 23,
     "metadata": {},
     "output_type": "execute_result"
    }
   ],
   "source": [
    "df_clean.sample(10)"
   ]
  },
  {
   "cell_type": "code",
   "execution_count": 24,
   "metadata": {},
   "outputs": [
    {
     "data": {
      "text/plain": [
       "bike_id                       0\n",
       "bike_share_for_all_trip    1025\n",
       "duration_sec                  0\n",
       "end_station_id                0\n",
       "end_station_latitude          0\n",
       "end_station_longitude         0\n",
       "end_station_name              0\n",
       "end_time                      0\n",
       "member_birth_year             0\n",
       "member_gender                 0\n",
       "start_station_id              0\n",
       "start_station_latitude        0\n",
       "start_station_longitude       0\n",
       "start_station_name            0\n",
       "start_time                    0\n",
       "user_type                     0\n",
       "member_age                    0\n",
       "start_month                   0\n",
       "start_weekday                 0\n",
       "duration_min                  0\n",
       "dtype: int64"
      ]
     },
     "execution_count": 24,
     "metadata": {},
     "output_type": "execute_result"
    }
   ],
   "source": [
    "df_clean.isna().sum()"
   ]
  },
  {
   "cell_type": "code",
   "execution_count": 25,
   "metadata": {},
   "outputs": [
    {
     "data": {
      "text/plain": [
       "count    1.173832e+06\n",
       "mean     3.431187e+01\n",
       "std      1.011861e+01\n",
       "min      1.800000e+01\n",
       "25%      2.700000e+01\n",
       "50%      3.200000e+01\n",
       "75%      3.900000e+01\n",
       "max      1.410000e+02\n",
       "Name: member_age, dtype: float64"
      ]
     },
     "execution_count": 25,
     "metadata": {},
     "output_type": "execute_result"
    }
   ],
   "source": [
    "df_clean.member_age.describe()"
   ]
  },
  {
   "cell_type": "markdown",
   "metadata": {},
   "source": [
    "#### Save the cleaned dataset"
   ]
  },
  {
   "cell_type": "code",
   "execution_count": 26,
   "metadata": {},
   "outputs": [],
   "source": [
    "df_clean.to_csv('fordgobike_master_cleaned.csv', index = False)"
   ]
  },
  {
   "cell_type": "markdown",
   "metadata": {},
   "source": [
    "### What is the structure of your dataset?\n",
    "\n",
    "The column header descriptions are as follows:\n",
    "\n",
    "- Trip Duration (seconds)\n",
    "- Start Time and Date\n",
    "- End Time and Date\n",
    "- Start Station ID\n",
    "- Start Station Name\n",
    "- Start Station Latitude\n",
    "- Start Station Longitude\n",
    "- End Station ID\n",
    "- End Station Name\n",
    "- End Station Latitude\n",
    "- End Station Longitude\n",
    "- Bike ID\n",
    "- User Type (Subscriber or Customer – “Subscriber” = Member or - “Customer” = Casual)\n",
    "- Member Year of Birth\n",
    "- Member Gender\n",
    "\n",
    "It was added the following columns:\n",
    "- Member Age\n",
    "- Start Month\n",
    "- Start Weekday\n",
    "- Duration Min\n",
    "\n",
    "### What is/are the main feature(s) of interest in your dataset?\n",
    "The features related to time duration, start and end of a trip, age and gender are very interesting to use to make business decisions such as which day of the week bikes should be most available.\n",
    "\n",
    "### What features in the dataset do you think will help support your investigation into your feature(s) of interest?\n",
    "The member age, user type and related time-based information will be utilized.\n",
    "\n",
    "## Univariate Exploration\n"
   ]
  },
  {
   "cell_type": "code",
   "execution_count": 27,
   "metadata": {},
   "outputs": [
    {
     "name": "stdout",
     "output_type": "stream",
     "text": [
      "<class 'pandas.core.frame.DataFrame'>\n",
      "RangeIndex: 1173832 entries, 0 to 1173831\n",
      "Data columns (total 20 columns):\n",
      "bike_id                    1173832 non-null int64\n",
      "bike_share_for_all_trip    1172807 non-null object\n",
      "duration_sec               1173832 non-null int64\n",
      "end_station_id             1173832 non-null float64\n",
      "end_station_latitude       1173832 non-null float64\n",
      "end_station_longitude      1173832 non-null float64\n",
      "end_station_name           1173832 non-null object\n",
      "end_time                   1173832 non-null object\n",
      "member_birth_year          1173832 non-null float64\n",
      "member_gender              1173832 non-null object\n",
      "start_station_id           1173832 non-null float64\n",
      "start_station_latitude     1173832 non-null float64\n",
      "start_station_longitude    1173832 non-null float64\n",
      "start_station_name         1173832 non-null object\n",
      "start_time                 1173832 non-null object\n",
      "user_type                  1173832 non-null object\n",
      "member_age                 1173832 non-null float64\n",
      "start_month                1173832 non-null object\n",
      "start_weekday              1173832 non-null object\n",
      "duration_min               1173832 non-null float64\n",
      "dtypes: float64(9), int64(2), object(9)\n",
      "memory usage: 179.1+ MB\n"
     ]
    }
   ],
   "source": [
    "df = pd.read_csv(\"fordgobike_master_cleaned.csv\", sep=',')\n",
    "df.info()"
   ]
  },
  {
   "cell_type": "code",
   "execution_count": 28,
   "metadata": {},
   "outputs": [
    {
     "name": "stdout",
     "output_type": "stream",
     "text": [
      "<class 'pandas.core.frame.DataFrame'>\n",
      "RangeIndex: 1173832 entries, 0 to 1173831\n",
      "Data columns (total 20 columns):\n",
      "bike_id                    1173832 non-null object\n",
      "bike_share_for_all_trip    1172807 non-null category\n",
      "duration_sec               1173832 non-null int64\n",
      "end_station_id             1173832 non-null object\n",
      "end_station_latitude       1173832 non-null float64\n",
      "end_station_longitude      1173832 non-null float64\n",
      "end_station_name           1173832 non-null object\n",
      "end_time                   1173832 non-null datetime64[ns]\n",
      "member_birth_year          1173832 non-null float64\n",
      "member_gender              1173832 non-null category\n",
      "start_station_id           1173832 non-null object\n",
      "start_station_latitude     1173832 non-null float64\n",
      "start_station_longitude    1173832 non-null float64\n",
      "start_station_name         1173832 non-null object\n",
      "start_time                 1173832 non-null datetime64[ns]\n",
      "user_type                  1173832 non-null category\n",
      "member_age                 1173832 non-null float64\n",
      "start_month                1173832 non-null object\n",
      "start_weekday              1173832 non-null object\n",
      "duration_min               1173832 non-null float64\n",
      "dtypes: category(3), datetime64[ns](2), float64(7), int64(1), object(7)\n",
      "memory usage: 155.6+ MB\n"
     ]
    }
   ],
   "source": [
    "# changing data type again\n",
    "change_to_string (df,['start_station_id', 'end_station_id','bike_id'])\n",
    "change_to_timestamp (df,['start_time', 'end_time'])\n",
    "change_to_category (df,['user_type', 'member_gender', 'bike_share_for_all_trip'])\n",
    "df.info()"
   ]
  },
  {
   "cell_type": "code",
   "execution_count": 29,
   "metadata": {},
   "outputs": [
    {
     "data": {
      "text/html": [
       "<div>\n",
       "<style scoped>\n",
       "    .dataframe tbody tr th:only-of-type {\n",
       "        vertical-align: middle;\n",
       "    }\n",
       "\n",
       "    .dataframe tbody tr th {\n",
       "        vertical-align: top;\n",
       "    }\n",
       "\n",
       "    .dataframe thead th {\n",
       "        text-align: right;\n",
       "    }\n",
       "</style>\n",
       "<table border=\"1\" class=\"dataframe\">\n",
       "  <thead>\n",
       "    <tr style=\"text-align: right;\">\n",
       "      <th></th>\n",
       "      <th>duration_sec</th>\n",
       "      <th>end_station_latitude</th>\n",
       "      <th>end_station_longitude</th>\n",
       "      <th>member_birth_year</th>\n",
       "      <th>start_station_latitude</th>\n",
       "      <th>start_station_longitude</th>\n",
       "      <th>member_age</th>\n",
       "      <th>duration_min</th>\n",
       "    </tr>\n",
       "  </thead>\n",
       "  <tbody>\n",
       "    <tr>\n",
       "      <td>count</td>\n",
       "      <td>1.173832e+06</td>\n",
       "      <td>1.173832e+06</td>\n",
       "      <td>1.173832e+06</td>\n",
       "      <td>1.173832e+06</td>\n",
       "      <td>1.173832e+06</td>\n",
       "      <td>1.173832e+06</td>\n",
       "      <td>1.173832e+06</td>\n",
       "      <td>1.173832e+06</td>\n",
       "    </tr>\n",
       "    <tr>\n",
       "      <td>mean</td>\n",
       "      <td>7.501220e+02</td>\n",
       "      <td>3.776928e+01</td>\n",
       "      <td>-1.223503e+02</td>\n",
       "      <td>1.984688e+03</td>\n",
       "      <td>3.776969e+01</td>\n",
       "      <td>-1.223525e+02</td>\n",
       "      <td>3.431187e+01</td>\n",
       "      <td>1.250203e+01</td>\n",
       "    </tr>\n",
       "    <tr>\n",
       "      <td>std</td>\n",
       "      <td>1.700208e+03</td>\n",
       "      <td>1.791745e-01</td>\n",
       "      <td>4.934571e-01</td>\n",
       "      <td>1.011861e+01</td>\n",
       "      <td>1.070743e-01</td>\n",
       "      <td>1.637495e-01</td>\n",
       "      <td>1.011861e+01</td>\n",
       "      <td>2.833680e+01</td>\n",
       "    </tr>\n",
       "    <tr>\n",
       "      <td>min</td>\n",
       "      <td>6.100000e+01</td>\n",
       "      <td>0.000000e+00</td>\n",
       "      <td>-1.224537e+02</td>\n",
       "      <td>1.878000e+03</td>\n",
       "      <td>0.000000e+00</td>\n",
       "      <td>-1.224537e+02</td>\n",
       "      <td>1.800000e+01</td>\n",
       "      <td>1.016667e+00</td>\n",
       "    </tr>\n",
       "    <tr>\n",
       "      <td>25%</td>\n",
       "      <td>3.410000e+02</td>\n",
       "      <td>3.777041e+01</td>\n",
       "      <td>-1.224117e+02</td>\n",
       "      <td>1.980000e+03</td>\n",
       "      <td>3.777041e+01</td>\n",
       "      <td>-1.224124e+02</td>\n",
       "      <td>2.700000e+01</td>\n",
       "      <td>5.683333e+00</td>\n",
       "    </tr>\n",
       "    <tr>\n",
       "      <td>50%</td>\n",
       "      <td>5.420000e+02</td>\n",
       "      <td>3.778095e+01</td>\n",
       "      <td>-1.223974e+02</td>\n",
       "      <td>1.987000e+03</td>\n",
       "      <td>3.778079e+01</td>\n",
       "      <td>-1.223983e+02</td>\n",
       "      <td>3.200000e+01</td>\n",
       "      <td>9.033333e+00</td>\n",
       "    </tr>\n",
       "    <tr>\n",
       "      <td>75%</td>\n",
       "      <td>8.430000e+02</td>\n",
       "      <td>3.779728e+01</td>\n",
       "      <td>-1.222912e+02</td>\n",
       "      <td>1.992000e+03</td>\n",
       "      <td>3.779728e+01</td>\n",
       "      <td>-1.222894e+02</td>\n",
       "      <td>3.900000e+01</td>\n",
       "      <td>1.405000e+01</td>\n",
       "    </tr>\n",
       "    <tr>\n",
       "      <td>max</td>\n",
       "      <td>8.611400e+04</td>\n",
       "      <td>3.788022e+01</td>\n",
       "      <td>0.000000e+00</td>\n",
       "      <td>2.001000e+03</td>\n",
       "      <td>3.788022e+01</td>\n",
       "      <td>0.000000e+00</td>\n",
       "      <td>1.410000e+02</td>\n",
       "      <td>1.435233e+03</td>\n",
       "    </tr>\n",
       "  </tbody>\n",
       "</table>\n",
       "</div>"
      ],
      "text/plain": [
       "       duration_sec  end_station_latitude  end_station_longitude  \\\n",
       "count  1.173832e+06          1.173832e+06           1.173832e+06   \n",
       "mean   7.501220e+02          3.776928e+01          -1.223503e+02   \n",
       "std    1.700208e+03          1.791745e-01           4.934571e-01   \n",
       "min    6.100000e+01          0.000000e+00          -1.224537e+02   \n",
       "25%    3.410000e+02          3.777041e+01          -1.224117e+02   \n",
       "50%    5.420000e+02          3.778095e+01          -1.223974e+02   \n",
       "75%    8.430000e+02          3.779728e+01          -1.222912e+02   \n",
       "max    8.611400e+04          3.788022e+01           0.000000e+00   \n",
       "\n",
       "       member_birth_year  start_station_latitude  start_station_longitude  \\\n",
       "count       1.173832e+06            1.173832e+06             1.173832e+06   \n",
       "mean        1.984688e+03            3.776969e+01            -1.223525e+02   \n",
       "std         1.011861e+01            1.070743e-01             1.637495e-01   \n",
       "min         1.878000e+03            0.000000e+00            -1.224537e+02   \n",
       "25%         1.980000e+03            3.777041e+01            -1.224124e+02   \n",
       "50%         1.987000e+03            3.778079e+01            -1.223983e+02   \n",
       "75%         1.992000e+03            3.779728e+01            -1.222894e+02   \n",
       "max         2.001000e+03            3.788022e+01             0.000000e+00   \n",
       "\n",
       "         member_age  duration_min  \n",
       "count  1.173832e+06  1.173832e+06  \n",
       "mean   3.431187e+01  1.250203e+01  \n",
       "std    1.011861e+01  2.833680e+01  \n",
       "min    1.800000e+01  1.016667e+00  \n",
       "25%    2.700000e+01  5.683333e+00  \n",
       "50%    3.200000e+01  9.033333e+00  \n",
       "75%    3.900000e+01  1.405000e+01  \n",
       "max    1.410000e+02  1.435233e+03  "
      ]
     },
     "execution_count": 29,
     "metadata": {},
     "output_type": "execute_result"
    }
   ],
   "source": [
    "df.describe()"
   ]
  },
  {
   "cell_type": "code",
   "execution_count": 30,
   "metadata": {},
   "outputs": [
    {
     "data": {
      "text/plain": [
       "count    1.173832e+06\n",
       "mean     3.431187e+01\n",
       "std      1.011861e+01\n",
       "min      1.800000e+01\n",
       "25%      2.700000e+01\n",
       "50%      3.200000e+01\n",
       "75%      3.900000e+01\n",
       "max      1.410000e+02\n",
       "Name: member_age, dtype: float64"
      ]
     },
     "execution_count": 30,
     "metadata": {},
     "output_type": "execute_result"
    }
   ],
   "source": [
    "df.member_age.describe()"
   ]
  },
  {
   "cell_type": "code",
   "execution_count": 31,
   "metadata": {},
   "outputs": [
    {
     "data": {
      "text/plain": [
       "count    1.173832e+06\n",
       "mean     3.431187e+01\n",
       "std      1.011861e+01\n",
       "min      1.800000e+01\n",
       "50%      3.200000e+01\n",
       "99%      6.400000e+01\n",
       "max      1.410000e+02\n",
       "Name: member_age, dtype: float64"
      ]
     },
     "execution_count": 31,
     "metadata": {},
     "output_type": "execute_result"
    }
   ],
   "source": [
    "df.member_age.describe(percentiles = [.99])"
   ]
  },
  {
   "cell_type": "code",
   "execution_count": 32,
   "metadata": {},
   "outputs": [],
   "source": [
    "# So it looks like 99% of users are under the age of 64\n",
    "# Only keep the rows where riders were under 64 years of age for the analysis\n",
    "df = df.query('member_age <= 64')"
   ]
  },
  {
   "cell_type": "code",
   "execution_count": 33,
   "metadata": {},
   "outputs": [
    {
     "data": {
      "text/plain": [
       "33.966529052421485"
      ]
     },
     "execution_count": 33,
     "metadata": {},
     "output_type": "execute_result"
    }
   ],
   "source": [
    "df.member_age.mean()"
   ]
  },
  {
   "cell_type": "code",
   "execution_count": 34,
   "metadata": {},
   "outputs": [
    {
     "data": {
      "text/plain": [
       "64.0"
      ]
     },
     "execution_count": 34,
     "metadata": {},
     "output_type": "execute_result"
    }
   ],
   "source": [
    "df.member_age.max()"
   ]
  },
  {
   "cell_type": "code",
   "execution_count": 35,
   "metadata": {},
   "outputs": [
    {
     "data": {
      "image/png": "[encoded data removed]",
      "text/plain": [
       "<Figure size 432x288 with 1 Axes>"
      ]
     },
     "metadata": {
      "needs_background": "light"
     },
     "output_type": "display_data"
    }
   ],
   "source": [
    "# Age group data\n",
    "bin_edges = np.arange(0, 65, 5)\n",
    "\n",
    "plt.hist(data = df, x = 'member_age', bins = bin_edges);\n",
    "\n",
    "plt.title(\"Ford GoBike User by Age\", y=1.05, fontsize=18, fontweight='bold')\n",
    "plt.xlabel('Age of Members (Years)')\n",
    "plt.ylabel('Number of Bike Trips');"
   ]
  },
  {
   "cell_type": "markdown",
   "metadata": {},
   "source": [
    "> Observation 1: The mean age  of a Ford GoBike user is 34 years old. The data was cleaned, using for the analysis users under the age 65. The histogram shows the majority of users are adults between 25-40 years old."
   ]
  },
  {
   "cell_type": "code",
   "execution_count": 36,
   "metadata": {},
   "outputs": [
    {
     "data": {
      "text/plain": [
       "count     1163397\n",
       "unique          6\n",
       "top         March\n",
       "freq       242356\n",
       "Name: start_month, dtype: object"
      ]
     },
     "execution_count": 36,
     "metadata": {},
     "output_type": "execute_result"
    }
   ],
   "source": [
    "df.start_month.describe()"
   ]
  },
  {
   "cell_type": "code",
   "execution_count": 37,
   "metadata": {},
   "outputs": [
    {
     "data": {
      "image/png": "[encoded data removed]",
      "text/plain": [
       "<Figure size 612x360 with 1 Axes>"
      ]
     },
     "metadata": {
      "needs_background": "light"
     },
     "output_type": "display_data"
    }
   ],
   "source": [
    "# Monthly usage of the Ford GoBike\n",
    "Months = ['January', 'February', 'March', 'April', 'May', 'June']\n",
    "graph = sb.catplot(data = df, x = 'start_month', kind = 'count', palette=\"Blues_d\", order = Months, aspect = 1.7);\n",
    "\n",
    "graph.set_axis_labels('Month', 'Number of Bike Trips'),\n",
    "\n",
    "graph.fig.suptitle('Ford GoBike Usage by Month', y = 1.05, fontsize = 16, fontweight = 'bold');"
   ]
  },
  {
   "cell_type": "markdown",
   "metadata": {},
   "source": [
    "> Observation 2: In the first half of 2019, the Ford GoBike use was most popular in the period between March and April. It is interesting to see that in June, early summer, the number of bike trips decreased."
   ]
  },
  {
   "cell_type": "code",
   "execution_count": 38,
   "metadata": {},
   "outputs": [
    {
     "data": {
      "image/png": "[encoded data removed]",
      "text/plain": [
       "<Figure size 360x360 with 1 Axes>"
      ]
     },
     "metadata": {
      "needs_background": "light"
     },
     "output_type": "display_data"
    }
   ],
   "source": [
    "\n",
    "# Weekday usage of the Ford Go bike system\n",
    "weekday = ['Mon', 'Tue', 'Wed', 'Thu', 'Fri', 'Sat', 'Sun']\n",
    "graph = sb.catplot(data=df, x='start_weekday', kind='count', palette=\"Blues_d\", order = weekday)\n",
    "\n",
    "graph.set_axis_labels('Weekdays', 'Number of Bike Trips')\n",
    "\n",
    "graph.fig.suptitle('Ford GoBike Usage by Weekday', y=1.05, fontsize=16, fontweight='bold');"
   ]
  },
  {
   "cell_type": "markdown",
   "metadata": {},
   "source": [
    "> Observation 3: Thursdays seem to be the most popular days for using the Ford GoBike, however the orthers working days are very close to the Thursdays numbers. The usage drops significantly on wewkends."
   ]
  },
  {
   "cell_type": "code",
   "execution_count": 39,
   "metadata": {},
   "outputs": [
    {
     "data": {
      "text/plain": [
       "count    1.163397e+06\n",
       "mean     1.250538e+01\n",
       "std      2.836627e+01\n",
       "min      1.016667e+00\n",
       "25%      5.683333e+00\n",
       "50%      9.033333e+00\n",
       "75%      1.405000e+01\n",
       "max      1.435233e+03\n",
       "Name: duration_min, dtype: float64"
      ]
     },
     "execution_count": 39,
     "metadata": {},
     "output_type": "execute_result"
    }
   ],
   "source": [
    "df.duration_min.describe()"
   ]
  },
  {
   "cell_type": "code",
   "execution_count": 40,
   "metadata": {},
   "outputs": [
    {
     "data": {
      "image/png": "[encoded data removed]",
      "text/plain": [
       "<Figure size 432x288 with 1 Axes>"
      ]
     },
     "metadata": {
      "needs_background": "light"
     },
     "output_type": "display_data"
    }
   ],
   "source": [
    "# Duration of the trips in minutes\n",
    "bin_edges = np.arange(0, 45, 1)\n",
    "ticks = [0, 5, 10, 15, 20, 25, 30,  35, 40, 45]\n",
    "labels = ['{}'.format(val) for val in ticks]\n",
    "\n",
    "plt.hist(data = df, x = 'duration_min', bins = bin_edges, rwidth = 0.6);\n",
    "\n",
    "plt.title(\"Trip Duration in Minutes\", y=1.05, fontsize=16, fontweight='bold')\n",
    "plt.xlabel('Duration (Min)')\n",
    "plt.xticks(ticks, labels)\n",
    "plt.ylabel('Number of Bike Trips');"
   ]
  },
  {
   "cell_type": "markdown",
   "metadata": {},
   "source": [
    "> Observation 4: Although the average duration is 12.5 minutes, the histogram shows that most trips are short distances, with an approximate time of 3 to 11 minutes."
   ]
  },
  {
   "cell_type": "code",
   "execution_count": 41,
   "metadata": {},
   "outputs": [
    {
     "data": {
      "text/plain": [
       "Male      863025\n",
       "Female    278521\n",
       "Other      21851\n",
       "Name: member_gender, dtype: int64"
      ]
     },
     "execution_count": 41,
     "metadata": {},
     "output_type": "execute_result"
    }
   ],
   "source": [
    "# What about gender\n",
    "gender = df.member_gender.value_counts()\n",
    "gender"
   ]
  },
  {
   "cell_type": "code",
   "execution_count": 44,
   "metadata": {},
   "outputs": [
    {
     "data": {
      "image/png": "[encoded data removed]",
      "text/plain": [
       "<Figure size 432x288 with 1 Axes>"
      ]
     },
     "metadata": {},
     "output_type": "display_data"
    }
   ],
   "source": [
    "plt.pie(gender, labels = gender.index, startangle = 90, autopct= '%1.1f%%', counterclock = False)\n",
    "\n",
    "plt.title('Ford GoBike User by Gender', y=1.05, fontsize=18, fontweight='bold');"
   ]
  },
  {
   "cell_type": "markdown",
   "metadata": {},
   "source": [
    "> Observation 5: The pie chart shows the majority of users are male, representing 74.2% of the total users."
   ]
  },
  {
   "cell_type": "markdown",
   "metadata": {},
   "source": [
    "### Discuss the distribution(s) of your variable(s) of interest. Were there any unusual points? Did you need to perform any transformations?\n",
    "> The data cleansing process was successfully executed, adding new columns made it easier during the exploration and visualization phase.\n",
    "\n",
    "### Of the features you investigated, were there any unusual distributions? Did you perform any operations on the data to tidy, adjust, or change the form of the data? If so, why did you do this?\n",
    "> There was an unusual distribution for the member age, which in a case the member  age was 141. Since 99% of the members are between 18 and 64 years, I removed users older than 64.\n",
    "\n",
    "## Bivariate Exploration\n",
    "> In this section the user type will be used to the bivariate exploration, crossing with other dataset variables."
   ]
  },
  {
   "cell_type": "code",
   "execution_count": 56,
   "metadata": {},
   "outputs": [
    {
     "data": {
      "image/png": "[encoded data removed]",
      "text/plain": [
       "<Figure size 1440x360 with 2 Axes>"
      ]
     },
     "metadata": {
      "needs_background": "light"
     },
     "output_type": "display_data"
    }
   ],
   "source": [
    "# # User type proportion of trips by Age\n",
    "graph = sb.catplot(data = df, x = 'member_age', col='user_type', kind='count', palette=\"Blues_d\", sharey = False, height=5, aspect=2)\n",
    "\n",
    "graph.set_axis_labels('Member Age', 'Number of Bike Trips')\n",
    "graph.set_titles('{col_name}')\n",
    "\n",
    "graph.fig.suptitle('Customers vs. Subscribers Ages', y=1.05, fontsize=18, fontweight='bold');"
   ]
  },
  {
   "cell_type": "markdown",
   "metadata": {},
   "source": [
    "> Observation 1: Both user type graphs show the high number of 31 year olds falling withing both catgoires. Customers tends to have mostly younger users."
   ]
  },
  {
   "cell_type": "code",
   "execution_count": 54,
   "metadata": {},
   "outputs": [
    {
     "data": {
      "image/png": "[encoded data removed]",
      "text/plain": [
       "<Figure size 720x360 with 2 Axes>"
      ]
     },
     "metadata": {
      "needs_background": "light"
     },
     "output_type": "display_data"
    }
   ],
   "source": [
    "# calculating the proportion of trips by user type\n",
    "customer = df.query('user_type == \"Customer\"')['member_age'].count()\n",
    "subscriber = df.query('user_type == \"Subscriber\"')['member_age'].count()\n",
    "\n",
    "customer_proportion = customer / df['member_age'].count()\n",
    "subscriber_proportion = subscriber / df['member_age'].count()\n",
    "\n",
    "# configurating the graphs\n",
    "plt.figure(figsize = [10, 5])\n",
    "plt.subplot(1, 2, 1)\n",
    "\n",
    "graph = sb.countplot(data=df, x=\"user_type\", order=df.user_type.value_counts().index)\n",
    "graph.set_xlabel('User Type')\n",
    "graph.set_ylabel('Number of Bike Trips')\n",
    "\n",
    "plt.subplot(1, 2, 2)\n",
    "\n",
    "labels = ['Customer', 'Subscriber']\n",
    "sizes = [customer_proportion, subscriber_proportion]\n",
    "colors = ['darkorange', 'steelblue']\n",
    "explode = (0, 0.1)\n",
    "\n",
    "plt.pie(sizes, explode=explode, labels=labels, colors = colors, autopct='%1.1f%%', shadow=True, startangle=90)\n",
    "plt.axis('equal')\n",
    "\n",
    "plt.suptitle('Proportion of trips by user type', y=1.03, fontsize=14, fontweight='semibold');"
   ]
  },
  {
   "cell_type": "markdown",
   "metadata": {},
   "source": [
    "> Observation 2: In 88.7% of trips users were subscribers."
   ]
  },
  {
   "cell_type": "code",
   "execution_count": 59,
   "metadata": {},
   "outputs": [
    {
     "data": {
      "image/png": "[encoded data removed]",
      "text/plain": [
       "<Figure size 720x360 with 2 Axes>"
      ]
     },
     "metadata": {
      "needs_background": "light"
     },
     "output_type": "display_data"
    }
   ],
   "source": [
    "# Customer Usage vs. Subscriber Usage by Month\n",
    "graph = sb.catplot(data=df, x='start_month', col=\"user_type\", kind='count', sharey = True, palette=\"Blues_d\", order=Months);\n",
    "\n",
    "graph.set_axis_labels(\"Month\", \"Number of Bike Trips\");\n",
    "graph.set_titles(\"{col_name}\");\n",
    "\n",
    "graph.fig.suptitle('Customer Usage vs. Subscriber Usage by Month', y=1.05, fontsize=16, fontweight='bold');"
   ]
  },
  {
   "cell_type": "markdown",
   "metadata": {},
   "source": [
    "> Observation 3: The graph shows similar behavior between user types, when there were more trips between March and April. "
   ]
  },
  {
   "cell_type": "code",
   "execution_count": 61,
   "metadata": {},
   "outputs": [
    {
     "data": {
      "image/png": "[encoded data removed]",
      "text/plain": [
       "<Figure size 432x288 with 1 Axes>"
      ]
     },
     "metadata": {
      "needs_background": "light"
     },
     "output_type": "display_data"
    }
   ],
   "source": [
    "# Customer Usage vs. Subscriber Usage by Weekday\n",
    "\n",
    "df_weekday = df.groupby(['start_weekday', 'user_type']).size().reset_index()\n",
    "\n",
    "ax = sb.pointplot(data=df_weekday, x='start_weekday', y=0, hue = 'user_type', scale=.7, order = weekday);\n",
    "\n",
    "plt.title('Customer Usage vs. Subscriber Usage by Weekday', y=1.05, fontsize=16, fontweight='bold')\n",
    "plt.xlabel('Weekdays')\n",
    "plt.ylabel('Number of Bike Trips');\n",
    "plt.grid()"
   ]
  },
  {
   "cell_type": "markdown",
   "metadata": {},
   "source": [
    "> Observation 4: Subscribers have a considerating usage decrease on the weekends and Customers are the opposite, when the usage increases on the weekends."
   ]
  },
  {
   "cell_type": "code",
   "execution_count": 62,
   "metadata": {},
   "outputs": [
    {
     "data": {
      "text/plain": [
       "count    1.163397e+06\n",
       "mean     1.250538e+01\n",
       "std      2.836627e+01\n",
       "min      1.016667e+00\n",
       "50%      9.033333e+00\n",
       "95%      2.763333e+01\n",
       "max      1.435233e+03\n",
       "Name: duration_min, dtype: float64"
      ]
     },
     "execution_count": 62,
     "metadata": {},
     "output_type": "execute_result"
    }
   ],
   "source": [
    "df.duration_min.describe(percentiles = [.95])"
   ]
  },
  {
   "cell_type": "code",
   "execution_count": 63,
   "metadata": {},
   "outputs": [
    {
     "data": {
      "image/png": "[encoded data removed]",
      "text/plain": [
       "<Figure size 720x360 with 2 Axes>"
      ]
     },
     "metadata": {
      "needs_background": "light"
     },
     "output_type": "display_data"
    }
   ],
   "source": [
    "# working with 95th percentile\n",
    "data = df.query('duration_min < 30')\n",
    "\n",
    "g = sb.catplot(data=data, y='duration_min', col=\"user_type\", kind='box')\n",
    "\n",
    "g.set_titles(col_template = '{col_name}')\n",
    "g.set_axis_labels(\"\", \"Duration (Min)\")\n",
    "g.fig.suptitle('Duration (Min) by User Type', y=1.05, fontsize=16, fontweight='bold');"
   ]
  },
  {
   "cell_type": "markdown",
   "metadata": {},
   "source": [
    "> Observation 5: Customer typically have trip durations are longer (8 to 18 minutes) than for subscribers (5 to 12 minutes), maybe by the fact that subscribers take short trips to work/school and customers take longer trips for a tour on the weekends \n",
    "\n",
    "### Talk about some of the relationships you observed in this part of the investigation. How did the feature(s) of interest vary with other features in the dataset?\n",
    "> The analysis revealed different behavior usage between customers and subscribers, when it is possible to suggest that customers are casual riders such as tourists and subscribers are daily riders, using the Ford GoBike for a short time during the weekdays.\n",
    "\n",
    "### Did you observe any interesting relationships between the other features (not the main feature(s) of interest)?\n",
    "> The difference in the trip duration between customers and subscribers. Subscribers prefer quick, short rides to and from work/school. Customers prefer longer bike rides around weekends.\n",
    "\n",
    "## Multivariate Exploration\n",
    "> In this section the user type and the user gender will be used to the multivariate exploration, crossing with other dataset variables."
   ]
  },
  {
   "cell_type": "code",
   "execution_count": 66,
   "metadata": {},
   "outputs": [
    {
     "data": {
      "text/plain": [
       "count    1.163397e+06\n",
       "mean     3.396653e+01\n",
       "std      9.410943e+00\n",
       "min      1.800000e+01\n",
       "25%      2.700000e+01\n",
       "50%      3.200000e+01\n",
       "75%      3.900000e+01\n",
       "max      6.400000e+01\n",
       "Name: member_age, dtype: float64"
      ]
     },
     "execution_count": 66,
     "metadata": {},
     "output_type": "execute_result"
    }
   ],
   "source": [
    "df.member_age.describe()"
   ]
  },
  {
   "cell_type": "code",
   "execution_count": 68,
   "metadata": {},
   "outputs": [
    {
     "data": {
      "text/plain": [
       "26 - 35    559493\n",
       "36 - 45    248884\n",
       "15 - 25    201070\n",
       "46 - 55    111308\n",
       "56 - 65     42642\n",
       "Name: age_bins, dtype: int64"
      ]
     },
     "execution_count": 68,
     "metadata": {},
     "output_type": "execute_result"
    }
   ],
   "source": [
    "df['age_bins'] = df['member_age'].apply(lambda x: '15 - 25' if 15<x<=25\n",
    "                                                  else '26 - 35' if 25<x<=35\n",
    "                                                  else '36 - 45' if 35<x<=45\n",
    "                                                  else '46 - 55' if 45<x<=55\n",
    "                                                  else '56 - 65' if 55<x<=66\n",
    "                                                       else x)\n",
    "df.age_bins.value_counts()"
   ]
  },
  {
   "cell_type": "code",
   "execution_count": 88,
   "metadata": {},
   "outputs": [
    {
     "data": {
      "image/png": "[encoded data removed]",
      "text/plain": [
       "<Figure size 1530.38x360 with 2 Axes>"
      ]
     },
     "metadata": {
      "needs_background": "light"
     },
     "output_type": "display_data"
    }
   ],
   "source": [
    "ages = ['15 - 25', '26 - 35', '36 - 45', '46 - 55', '56 - 65']\n",
    "graph = sb.catplot(data=df, x='age_bins', col=\"user_type\", hue=\"member_gender\", kind='count', sharey = False, height=5, aspect=2, order=ages);\n",
    "\n",
    "graph.set_axis_labels(\"Age Bins\", \"Number of Bike Trips\")\n",
    "graph._legend.set_title('Gender')\n",
    "graph.set_titles(\"{col_name}\")\n",
    "\n",
    "graph.fig.suptitle('Age Bins Usage Per User Type and Gender', y=1.05, fontsize=16, fontweight='bold');"
   ]
  },
  {
   "cell_type": "markdown",
   "metadata": {},
   "source": [
    "> Observation 1: Male are majority between subscribers and customers. Female are close in number of trips among younger customers, 15-25 years old, and older customers, 56-65 years old."
   ]
  },
  {
   "cell_type": "code",
   "execution_count": 72,
   "metadata": {},
   "outputs": [
    {
     "data": {
      "image/png": "[encoded data removed]",
      "text/plain": [
       "<Figure size 1530.38x360 with 2 Axes>"
      ]
     },
     "metadata": {
      "needs_background": "light"
     },
     "output_type": "display_data"
    }
   ],
   "source": [
    "# Monthly usage - user type and gender\n",
    "graph = sb.catplot(data=df, x='start_month', col=\"user_type\", hue=\"member_gender\", kind='count', sharey = False, height=5, aspect=2, order= Months);\n",
    "\n",
    "graph.set_axis_labels(\"Month\", \"Number of Bike Trips\")\n",
    "graph._legend.set_title('Gender')\n",
    "graph.set_titles(\"{col_name}\")\n",
    "\n",
    "graph.fig.suptitle('Monthly Usage Per User Type and Gender', y=1.05, fontsize=16, fontweight='bold');"
   ]
  },
  {
   "cell_type": "markdown",
   "metadata": {},
   "source": [
    "> Observation 2: The trend for males and females is very similar for customers, the highest demand is around March and April."
   ]
  },
  {
   "cell_type": "code",
   "execution_count": 86,
   "metadata": {},
   "outputs": [
    {
     "data": {
      "image/png": "[encoded data removed]",
      "text/plain": [
       "<Figure size 648x576 with 4 Axes>"
      ]
     },
     "metadata": {
      "needs_background": "light"
     },
     "output_type": "display_data"
    }
   ],
   "source": [
    "# Setting the weekday order\n",
    "df['start_weekday'] = pd.Categorical(df['start_weekday'], \n",
    "                                                categories=['Mon','Tue','Wed','Thu','Fri','Sat', 'Sun'], \n",
    "                                                ordered=True)\n",
    "plt.figure(figsize=(9,8))\n",
    "plt.suptitle('Ford GoBike usage during the weekday per gender for customers and subscribers', fontsize=14, fontweight='semibold')\n",
    "\n",
    "# heatmap for customers\n",
    "plt.subplot(1, 2, 1)\n",
    "df_customer = df.query('user_type == \"Customer\"').groupby([\"start_weekday\", \"member_gender\"])[\"bike_id\"].size().reset_index()\n",
    "df_customer = df_customer.pivot(\"start_weekday\", \"member_gender\", \"bike_id\")\n",
    "sb.heatmap(df_customer, cmap=\"BuPu\")\n",
    "\n",
    "plt.title(\"Customer\", y=1.015)\n",
    "plt.xlabel('Gender')\n",
    "plt.ylabel('Weekday')\n",
    "\n",
    "# heatmap for subscribers\n",
    "plt.subplot(1, 2, 2)\n",
    "df_subscriber = df.query('user_type == \"Subscriber\"').groupby([\"start_weekday\", \"member_gender\"])[\"bike_id\"].size().reset_index()\n",
    "df_subscriber = df_subscriber.pivot(\"start_weekday\", \"member_gender\", \"bike_id\")\n",
    "sb.heatmap(df_subscriber, cmap=\"BuPu\")\n",
    "\n",
    "plt.title(\"Subscriber\", y=1.015)\n",
    "plt.xlabel('Gender')\n",
    "plt.ylabel('');"
   ]
  },
  {
   "cell_type": "markdown",
   "metadata": {},
   "source": [
    "> Observation 3: Regardless of gender, customers had the most trips on Saturdays and subscribers had the most trips on Thursdays."
   ]
  },
  {
   "cell_type": "code",
   "execution_count": 87,
   "metadata": {},
   "outputs": [
    {
     "data": {
      "image/png": "[encoded data removed]",
      "text/plain": [
       "<Figure size 450.375x360 with 1 Axes>"
      ]
     },
     "metadata": {
      "needs_background": "light"
     },
     "output_type": "display_data"
    }
   ],
   "source": [
    "# working with 95th percentile\n",
    "graph = sb.catplot(data=data, x='user_type', y=\"duration_min\", hue=\"member_gender\", kind=\"violin\")\n",
    "\n",
    "graph.set_axis_labels(\"User Type\", \"Trip duration (min)\")\n",
    "graph._legend.set_title('Gender')\n",
    "graph.fig.suptitle('Trip duration per user type and gender', y=1.03, fontsize=14, fontweight='semibold');"
   ]
  },
  {
   "cell_type": "markdown",
   "metadata": {},
   "source": [
    "> Observation 4:  In both cases, females take longer trips than males and other. The difference is more visible for customers than for subscribers, where other is very similar to Female."
   ]
  },
  {
   "cell_type": "markdown",
   "metadata": {},
   "source": [
    "### Talk about some of the relationships you observed in this part of the investigation. Were there features that strengthened each other in terms of looking at your feature(s) of interest?\n",
    "> Comparing user type vs gender vs others variables of the dataset is possible to explore different bahaivors in the dataset, such as, regardless of user type, male and female 25 to 36 years old have the largest number of trips in the period.\n",
    "\n",
    "### Were there any interesting or surprising interactions between features?\n",
    "> Males used the Ford GoBike more than females, but females take longer trips than males.\n",
    "\n",
    "## Sources\n",
    "\n",
    "- FordGoBike Data Set\n",
    "- Seaborn catplot documentation\n",
    "- Matplotlib histogram documentation\n",
    "- IPython Display documentation\n",
    "- Seaborn heatmap documentation and tutorial"
   ]
  },
  {
   "cell_type": "code",
   "execution_count": null,
   "metadata": {},
   "outputs": [],
   "source": []
  }
 ],
 "metadata": {
  "kernelspec": {
   "display_name": "Python 3",
   "language": "python",
   "name": "python3"
  },
  "language_info": {
   "codemirror_mode": {
    "name": "ipython",
    "version": 3
   },
   "file_extension": ".py",
   "mimetype": "text/x-python",
   "name": "python",
   "nbconvert_exporter": "python",
   "pygments_lexer": "ipython3",
   "version": "3.7.4"
  }
 },
 "nbformat": 4,
 "nbformat_minor": 2
}
